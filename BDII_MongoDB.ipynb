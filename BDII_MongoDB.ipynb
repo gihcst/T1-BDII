{
  "cells": [
    {
      "cell_type": "code",
      "execution_count": 7,
      "metadata": {
        "colab": {
          "base_uri": "https://localhost:8080/"
        },
        "id": "dKR8T-ZW0XlR",
        "outputId": "0c27245e-7744-44ef-f901-391d7b602754"
      },
      "outputs": [
        {
          "output_type": "stream",
          "name": "stdout",
          "text": [
            "Collecting pymongo[srv,tls]\n",
            "  Downloading pymongo-4.7.3-cp310-cp310-manylinux_2_17_x86_64.manylinux2014_x86_64.whl (669 kB)\n",
            "\u001b[2K     \u001b[90m━━━━━━━━━━━━━━━━━━━━━━━━━━━━━━━━━━━━━━━━\u001b[0m \u001b[32m669.1/669.1 kB\u001b[0m \u001b[31m8.8 MB/s\u001b[0m eta \u001b[36m0:00:00\u001b[0m\n",
            "\u001b[?25hCollecting dnspython<3.0.0,>=1.16.0 (from pymongo[srv,tls])\n",
            "  Downloading dnspython-2.6.1-py3-none-any.whl (307 kB)\n",
            "\u001b[2K     \u001b[90m━━━━━━━━━━━━━━━━━━━━━━━━━━━━━━━━━━━━━━━━\u001b[0m \u001b[32m307.7/307.7 kB\u001b[0m \u001b[31m12.9 MB/s\u001b[0m eta \u001b[36m0:00:00\u001b[0m\n",
            "\u001b[?25hInstalling collected packages: dnspython, pymongo\n",
            "Successfully installed dnspython-2.6.1 pymongo-4.7.3\n"
          ]
        }
      ],
      "source": [
        "!pip install pymongo[srv,tls]"
      ]
    },
    {
      "cell_type": "code",
      "execution_count": 8,
      "metadata": {
        "id": "DSxQN-Fg0sT_"
      },
      "outputs": [],
      "source": [
        "import pymongo\n",
        "import json\n",
        "from pprint import pprint"
      ]
    },
    {
      "cell_type": "code",
      "execution_count": 9,
      "metadata": {
        "id": "KJrTweTD1JLP"
      },
      "outputs": [],
      "source": [
        "mongo_user = \"gihcst\"\n",
        "mongo_pw = \"130613Pjm\"\n",
        "mongo_host = \"castroserver.ea7wyrr.mongodb.net\"\n",
        "mongo_app = \"CastroServer\""
      ]
    },
    {
      "cell_type": "code",
      "execution_count": 10,
      "metadata": {
        "id": "KSeD9g4e1lY5"
      },
      "outputs": [],
      "source": [
        "conn = pymongo.MongoClient(\"mongodb+srv://\" + mongo_user + \":\" + mongo_pw + \"@\" + mongo_host + \"/?retryWrites=true&w=majority&appName=\" + mongo_app)\n"
      ]
    },
    {
      "cell_type": "code",
      "execution_count": 11,
      "metadata": {
        "colab": {
          "base_uri": "https://localhost:8080/"
        },
        "id": "tnVqpKaK2bZS",
        "outputId": "5d9a8636-98c6-4c55-fad9-93709905db94"
      },
      "outputs": [
        {
          "output_type": "execute_result",
          "data": {
            "text/plain": [
              "['lojavirtual', 'admin', 'local']"
            ]
          },
          "metadata": {},
          "execution_count": 11
        }
      ],
      "source": [
        "conn.list_database_names()"
      ]
    },
    {
      "cell_type": "code",
      "execution_count": 12,
      "metadata": {
        "id": "_AdZZ-ykB3bi"
      },
      "outputs": [],
      "source": [
        "bd2 = conn[\"lojavirtual\"]"
      ]
    },
    {
      "cell_type": "code",
      "execution_count": 13,
      "metadata": {
        "colab": {
          "base_uri": "https://localhost:8080/"
        },
        "id": "qlsH2FeHCL3y",
        "outputId": "dd1b2d89-03b2-45ce-f3ec-186b41a8a5c5"
      },
      "outputs": [
        {
          "output_type": "execute_result",
          "data": {
            "text/plain": [
              "{'db': 'lojavirtual',\n",
              " 'collections': 5,\n",
              " 'views': 0,\n",
              " 'objects': 37,\n",
              " 'avgObjSize': 192.0,\n",
              " 'dataSize': 7104,\n",
              " 'storageSize': 102400,\n",
              " 'totalFreeStorageSize': 0,\n",
              " 'numExtents': 0,\n",
              " 'indexes': 5,\n",
              " 'indexSize': 102400,\n",
              " 'indexFreeStorageSize': 0,\n",
              " 'fileSize': 0,\n",
              " 'nsSizeMB': 0,\n",
              " 'ok': 1}"
            ]
          },
          "metadata": {},
          "execution_count": 13
        }
      ],
      "source": [
        "bd2.command(\"dbstats\")"
      ]
    },
    {
      "cell_type": "code",
      "execution_count": null,
      "metadata": {
        "colab": {
          "base_uri": "https://localhost:8080/"
        },
        "id": "rA82TJkECQ5O",
        "outputId": "1e3fe89a-9cb3-41de-bceb-95dbac78565e"
      },
      "outputs": [
        {
          "output_type": "execute_result",
          "data": {
            "text/plain": [
              "Collection(Database(MongoClient(host=['ac-vrh5mde-shard-00-02.ea7wyrr.mongodb.net:27017', 'ac-vrh5mde-shard-00-01.ea7wyrr.mongodb.net:27017', 'ac-vrh5mde-shard-00-00.ea7wyrr.mongodb.net:27017'], document_class=dict, tz_aware=False, connect=True, retrywrites=True, w='majority', appname='CastroServer', authsource='admin', replicaset='atlas-owm4zi-shard-0', tls=True), 'lojavirtual'), 'cliente')"
            ]
          },
          "metadata": {},
          "execution_count": 40
        }
      ],
      "source": [
        "bd2.create_collection(\"cliente\", validator= {\n",
        "    \"$jsonSchema\": {\n",
        "        \"bsonType\": \"object\",\n",
        "        \"title\": \"Validacao de esquema\",\n",
        "        \"required\": [\"nome\", \"cpf\", \"email\", \"endereco\", \"avaliacao\"],\n",
        "        \"properties\": {\n",
        "            \"nome\": {\n",
        "                \"bsonType\": \"string\",\n",
        "                \"description\": \"Nome do cliente - Campo obrigatório!\"\n",
        "            },\n",
        "            \"cpf\": {\n",
        "                \"bsonType\": \"string\",\n",
        "                \"description\": \"CPF do cliente - Campo obrigatório!\"\n",
        "            },\n",
        "            \"email\": {\n",
        "                \"bsonType\": \"string\",\n",
        "                \"description\": \"Email do cliente - Campo obrigatório!\"\n",
        "            },\n",
        "            \"endereco\": {\n",
        "                \"bsonType\": \"array\",\n",
        "                \"required\": [\"numero\", \"cep\"],\n",
        "                \"properties\": {\n",
        "                    \"numero\": {\n",
        "                        \"bsonType\": \"int\",\n",
        "                        \"description\": \"Numero residencia\"\n",
        "                    },\n",
        "                    \"complemento\": {\n",
        "                        \"bsonType\": \"string\",\n",
        "                        \"description\": \"Complemento do endereço\"\n",
        "                    },\n",
        "                    \"cep\": {\n",
        "                        \"bsonType\": \"string\",\n",
        "                        \"description\": \"CEP do cliente\"\n",
        "                    },\n",
        "                    \"idEndereco\":{\n",
        "                        \"bsonType\": \"int\",\n",
        "                        \"description\": \"Id do endereço\"\n",
        "                    }\n",
        "\n",
        "                }\n",
        "            },\n",
        "            \"avaliacao\": {\n",
        "                \"bsonType\": \"array\",\n",
        "                \"required\": [\"nota\", \"data\", \"idProduto\"],\n",
        "                \"properties\": {\n",
        "                    \"nota\": {\n",
        "                        \"bsonType\": \"double\",\n",
        "                        \"description\": \"Nota do produto - Campo obrigatório!\"\n",
        "                    },\n",
        "                    \"comentario\": {\n",
        "                        \"bsonType\": \"string\",\n",
        "                        \"description\": \"Comentário sobre o produto\"\n",
        "                    },\n",
        "                    \"data\": {\n",
        "                        \"bsonType\": \"date\",\n",
        "                        \"description\": \"Data da avaliação\"\n",
        "                    },\n",
        "                    \"idFKProduto\": {\n",
        "                        \"bsonType\": \"objectId\",\n",
        "                        \"description\": \"Id do produto em que a avaliação foi feita\"\n",
        "                    }\n",
        "                }\n",
        "            }\n",
        "        }\n",
        "    }\n",
        "})"
      ]
    },
    {
      "cell_type": "code",
      "execution_count": null,
      "metadata": {
        "colab": {
          "base_uri": "https://localhost:8080/"
        },
        "id": "EAxHFS7rCTxs",
        "outputId": "f4407953-50cb-4134-ed18-6744ef7b0585"
      },
      "outputs": [
        {
          "output_type": "execute_result",
          "data": {
            "text/plain": [
              "Collection(Database(MongoClient(host=['ac-vrh5mde-shard-00-02.ea7wyrr.mongodb.net:27017', 'ac-vrh5mde-shard-00-01.ea7wyrr.mongodb.net:27017', 'ac-vrh5mde-shard-00-00.ea7wyrr.mongodb.net:27017'], document_class=dict, tz_aware=False, connect=True, retrywrites=True, w='majority', appname='CastroServer', authsource='admin', replicaset='atlas-owm4zi-shard-0', tls=True), 'lojavirtual'), 'pedido')"
            ]
          },
          "metadata": {},
          "execution_count": 41
        }
      ],
      "source": [
        "bd2.create_collection(\"pedido\", validator= {\n",
        "    \"$jsonSchema\": {\n",
        "        \"bsonType\": \"object\",\n",
        "        \"title\": \"Validacao de esquema\",\n",
        "        \"required\": [\"formaDePagamento\", \"data\", \"item\", \"idFKEndereco\"],\n",
        "        \"properties\": {\n",
        "            \"formaDePagamento\": {\n",
        "                \"bsonType\": \"string\",\n",
        "                \"description\": \"Forma do pagamento - Campo obrigatório!\"\n",
        "            },\n",
        "            \"dataehora\":{\n",
        "                \"bsonType\": \"date\",\n",
        "                \"description\": \"data do pedido\"\n",
        "            },\n",
        "            \"idFKEndereco\": {\n",
        "                \"bsonType\": \"int\",\n",
        "                \"description\": \"Id do endereço de quem fez o pedido\"\n",
        "            },\n",
        "            \"item\": {\n",
        "                \"bsonType\": \"array\",\n",
        "                \"required\": [\"quantidade\", \"data de entrega\", \"status\"],\n",
        "                \"properties\": {\n",
        "                    \"quantidade\": {\n",
        "                        \"bsonType\": \"int\",\n",
        "                        \"description\": \"Quantidade de itens - Campo obrigatório!\"\n",
        "                    },\n",
        "                    \"data de entrega\": {\n",
        "                        \"bsonType\": \"date\",\n",
        "                        \"description\": \"Data de entrega\"\n",
        "                    },\n",
        "                    \"status\": {\n",
        "                        \"bsonType\": \"string\",\n",
        "                        \"description\": \"Status do pedido\"\n",
        "                    },\n",
        "                    \"idFKProduto\": {\n",
        "                        \"bsonType\": \"objectId\",\n",
        "                        \"description\": \"id do produto do pedido\"\n",
        "                    },\n",
        "                    \"idFKTrans\": {\n",
        "                        \"bsonType\": \"int\",\n",
        "                        \"description\": \"is da transportadora\"\n",
        "                    }\n",
        "                }\n",
        "            }\n",
        "        }\n",
        "\n",
        "    }\n",
        "})"
      ]
    },
    {
      "cell_type": "code",
      "execution_count": null,
      "metadata": {
        "colab": {
          "base_uri": "https://localhost:8080/"
        },
        "id": "gLr8jbIkDz6Z",
        "outputId": "c386c7bc-ec3c-4b8f-b3ba-eb4c48b2e9ea"
      },
      "outputs": [
        {
          "output_type": "execute_result",
          "data": {
            "text/plain": [
              "Collection(Database(MongoClient(host=['ac-vrh5mde-shard-00-02.ea7wyrr.mongodb.net:27017', 'ac-vrh5mde-shard-00-01.ea7wyrr.mongodb.net:27017', 'ac-vrh5mde-shard-00-00.ea7wyrr.mongodb.net:27017'], document_class=dict, tz_aware=False, connect=True, retrywrites=True, w='majority', appname='CastroServer', authsource='admin', replicaset='atlas-owm4zi-shard-0', tls=True), 'lojavirtual'), 'produto')"
            ]
          },
          "metadata": {},
          "execution_count": 42
        }
      ],
      "source": [
        "bd2.create_collection(\"produto\", validator= {\n",
        "    \"$jsonSchema\": {\n",
        "        \"bsonType\": \"object\",\n",
        "        \"title\": \"Validacao de esquema\",\n",
        "        \"required\": [\"nome\", \"preco\"],\n",
        "        \"properties\": {\n",
        "            \"nome\": {\n",
        "                \"bsonType\": \"string\",\n",
        "                \"description\": \"Nome do produto - Campo obrigatório!\"\n",
        "            },\n",
        "            \"preco\": {\n",
        "                \"bsonType\": \"double\",\n",
        "                \"description\": \"Preço do produto\"\n",
        "            },\n",
        "            \"idFKCategoria\": {\n",
        "                \"bsonType\": \"objectId\",\n",
        "                \"description\": \"id da categoria do produto\"\n",
        "            }\n",
        "        }\n",
        "    }\n",
        "})"
      ]
    },
    {
      "cell_type": "code",
      "execution_count": null,
      "metadata": {
        "colab": {
          "base_uri": "https://localhost:8080/"
        },
        "id": "w1T_uVhwD2_X",
        "outputId": "45910630-87c7-4824-bf3c-516701a81a98"
      },
      "outputs": [
        {
          "output_type": "execute_result",
          "data": {
            "text/plain": [
              "Collection(Database(MongoClient(host=['ac-vrh5mde-shard-00-02.ea7wyrr.mongodb.net:27017', 'ac-vrh5mde-shard-00-01.ea7wyrr.mongodb.net:27017', 'ac-vrh5mde-shard-00-00.ea7wyrr.mongodb.net:27017'], document_class=dict, tz_aware=False, connect=True, retrywrites=True, w='majority', appname='CastroServer', authsource='admin', replicaset='atlas-owm4zi-shard-0', tls=True), 'lojavirtual'), 'transportadora')"
            ]
          },
          "metadata": {},
          "execution_count": 43
        }
      ],
      "source": [
        "bd2.create_collection(\"transportadora\", validator= {\n",
        "    \"$jsonSchema\": {\n",
        "        \"bsonType\": \"object\",\n",
        "        \"title\": \"Validacao de esquema\",\n",
        "        \"required\": [\"nome\", \"email\"],\n",
        "        \"properties\": {\n",
        "            \"nome\": {\n",
        "                \"bsonType\": \"string\",\n",
        "                \"description\": \"Nome da transportadora - Campo obrigatório!\"\n",
        "            },\n",
        "            \"email\": {\n",
        "                \"bsonType\": \"string\",\n",
        "                \"description\": \"Email da transportadora - Campo obrigatório!\"\n",
        "            }\n",
        "        }\n",
        "    }\n",
        "})"
      ]
    },
    {
      "cell_type": "code",
      "execution_count": null,
      "metadata": {
        "colab": {
          "base_uri": "https://localhost:8080/"
        },
        "id": "Q-SdJ2iBZYvn",
        "outputId": "4a7bebe5-2416-403c-bebf-036bd3502a2a"
      },
      "outputs": [
        {
          "output_type": "execute_result",
          "data": {
            "text/plain": [
              "Collection(Database(MongoClient(host=['ac-vrh5mde-shard-00-02.ea7wyrr.mongodb.net:27017', 'ac-vrh5mde-shard-00-01.ea7wyrr.mongodb.net:27017', 'ac-vrh5mde-shard-00-00.ea7wyrr.mongodb.net:27017'], document_class=dict, tz_aware=False, connect=True, retrywrites=True, w='majority', appname='CastroServer', authsource='admin', replicaset='atlas-owm4zi-shard-0', tls=True), 'lojavirtual'), 'categoria')"
            ]
          },
          "metadata": {},
          "execution_count": 44
        }
      ],
      "source": [
        "bd2.create_collection(\"categoria\", validator= {\n",
        "    \"$jsonSchema\": {\n",
        "        \"bsonType\": \"object\",\n",
        "        \"title\": \"Validacao de esquema\",\n",
        "        \"required\": [\"nome\"],\n",
        "        \"properties\": {\n",
        "            \"nome\": {\n",
        "                \"bsonType\": \"string\",\n",
        "                \"description\": \"Nome da categoria - Campo obrigatório!\"\n",
        "            }\n",
        "        }\n",
        "    }\n",
        "})"
      ]
    },
    {
      "cell_type": "code",
      "execution_count": null,
      "metadata": {
        "colab": {
          "base_uri": "https://localhost:8080/"
        },
        "id": "XUNGHMlQD6Jn",
        "outputId": "d32c194d-79f6-404e-bf1b-168679b221d2"
      },
      "outputs": [
        {
          "output_type": "execute_result",
          "data": {
            "text/plain": [
              "['transportadora', 'pedido', 'cliente', 'categoria', 'produto']"
            ]
          },
          "metadata": {},
          "execution_count": 85
        }
      ],
      "source": [
        "bd2.list_collection_names()"
      ]
    },
    {
      "cell_type": "code",
      "execution_count": null,
      "metadata": {
        "id": "VZJNvJ4-eBRq"
      },
      "outputs": [],
      "source": [
        "from datetime import datetime"
      ]
    },
    {
      "cell_type": "code",
      "execution_count": null,
      "metadata": {
        "id": "9VU-xah0EAzB"
      },
      "outputs": [],
      "source": [
        "dadosCliente = [\n",
        "    {\n",
        "        \"nome\": \"Enner Valência\",\n",
        "        \"cpf\": \"612758879-60\",\n",
        "        \"email\": \"ennerzinhocolorado@gmail.com\",\n",
        "        \"endereco\": [{\n",
        "            \"numero\": 123,\n",
        "            \"complemento\": None,\n",
        "            \"cep\": \"01000-000\",\n",
        "            \"idEndereco\": 1\n",
        "        },\n",
        "        {\n",
        "            \"numero\": 101,\n",
        "            \"complemento\": None,\n",
        "            \"cep\": \"01310-000\",\n",
        "            \"idEndereco\": 11\n",
        "        }],\n",
        "        \"avaliacao\": [\n",
        "            {\n",
        "            \"nota\": 10.0,\n",
        "            \"comentario\": \"Bom, rápido e bonito!\",\n",
        "            \"data\": datetime(2024, 5, 10),\n",
        "            \"idFKProduto\": idprodutos[0]\n",
        "            },\n",
        "          ]\n",
        "        },\n",
        "    {\n",
        "        \"nome\": \"Bruna Benites\",\n",
        "        \"cpf\": \"743600912-10\",\n",
        "        \"email\": \"bruna_b@outlook.com.br\",\n",
        "        \"endereco\": [{\n",
        "            \"numero\": 1010,\n",
        "            \"complemento\": None,\n",
        "            \"cep\": \"90020-007\",\n",
        "            \"idEndereco\": 2\n",
        "        },\n",
        "        {\n",
        "            \"numero\": 202,\n",
        "            \"complemento\": None,\n",
        "            \"cep\": \"01310-000\",\n",
        "            \"idEndereco\": 21\n",
        "        }],\n",
        "        \"avaliacao\": [\n",
        "            {\n",
        "            \"nota\": 9.5,\n",
        "            \"comentario\":\"Ótima geladeira, muito espaçosa!\",\n",
        "            \"data\": datetime(2024, 5, 10),\n",
        "            \"idFKProduto\": idprodutos[1]\n",
        "            },\n",
        "          ]\n",
        "        },\n",
        "    {\n",
        "       \"nome\": \"Roberta Schroeder\",\n",
        "        \"cpf\": \"510679839-11\",\n",
        "        \"email\": \"robertacolorado@gmail.com\",\n",
        "        \"endereco\": [{\n",
        "            \"numero\": 909,\n",
        "            \"complemento\": \"Bloco B\",\n",
        "            \"cep\": \"74030-010\",\n",
        "            \"idEndereco\": 3\n",
        "        }],\n",
        "        \"avaliacao\": [\n",
        "            {\n",
        "            \"nota\": 9.8,\n",
        "            \"comentario\":\"Excelente celular, rápido e eficiente.\",\n",
        "            \"data\": datetime(2024, 5, 12),\n",
        "            \"idFKProduto\": idprodutos[2]\n",
        "            },\n",
        "          ]\n",
        "        },\n",
        "      {\n",
        "      \"nome\": \"Isa Haas\",\n",
        "      \"cpf\": \"047596304-41\",\n",
        "      \"email\": \"isahaas@outlook.com.br\",\n",
        "      \"endereco\": [\n",
        "        {\n",
        "          \"numero\": 808,\n",
        "          \"complemento\": \"Ap.12\",\n",
        "          \"cep\": \"22240-000\",\n",
        "            \"idEndereco\": 4\n",
        "        }\n",
        "      ],\n",
        "      \"avaliacao\": [\n",
        "        {\n",
        "          \"nota\": 0.0,\n",
        "          \"comentario\": \"UM LIXO! NAO LIMPA NADA\",\n",
        "          \"data\": datetime(2024, 5, 11),\n",
        "          \"idFKProduto\": idprodutos[3]\n",
        "        }\n",
        "      ]\n",
        "    },\n",
        "    {\n",
        "      \"nome\": \"Soll Oliveira\",\n",
        "      \"cpf\": \"892376415-02\",\n",
        "      \"email\": \"sollzinhacolorado@gmail.com\",\n",
        "      \"endereco\": [\n",
        "        {\n",
        "          \"numero\": 707,\n",
        "          \"complemento\": None,\n",
        "          \"cep\": \"90010-150\",\n",
        "            \"idEndereco\": 5\n",
        "        }\n",
        "      ],\n",
        "      \"avaliacao\": [\n",
        "        {\n",
        "          \"nota\": 2.5,\n",
        "          \"comentario\": \"Refrigerante QUENTE e sem gaz.\",\n",
        "          \"data\": datetime(2024, 5, 15),\n",
        "          \"idFKProduto\": idprodutos[4]\n",
        "        }\n",
        "      ]\n",
        "    },\n",
        "    {\n",
        "      \"nome\": \"Giulia Giovanna\",\n",
        "      \"cpf\": \"375624418-05\",\n",
        "      \"email\": \"ggiovanna@outlook.com.br\",\n",
        "      \"endereco\": [\n",
        "        {\n",
        "          \"numero\": 606,\n",
        "          \"complemento\": None,\n",
        "          \"cep\": \"01040-000\",\n",
        "            \"idEndereco\": 6\n",
        "        }\n",
        "      ],\n",
        "      \"avaliacao\": [\n",
        "        {\n",
        "          \"nota\": 9.2,\n",
        "          \"comentario\": \"Suco de laranja natural, muito bom.\",\n",
        "          \"data\": datetime(2024, 5, 13),\n",
        "          \"idFKProduto\": idprodutos[5]\n",
        "        }\n",
        "      ]\n",
        "    },\n",
        "    {\n",
        "      \"nome\": \"Alan Patrick\",\n",
        "      \"cpf\": \"406935288-11\",\n",
        "      \"email\": \"apatrick@outlook.com.br\",\n",
        "      \"endereco\": [\n",
        "        {\n",
        "          \"numero\": 505,\n",
        "          \"complemento\": None,\n",
        "          \"cep\": \"01304-000\",\n",
        "            \"idEndereco\": 7\n",
        "        }\n",
        "      ],\n",
        "      \"avaliacao\": [\n",
        "        {\n",
        "          \"nota\": 8.8,\n",
        "          \"comentario\": \"Água mineral refrescante e pura.\",\n",
        "          \"data\": datetime(2024, 5, 13),\n",
        "          \"idFKProduto\": idprodutos[6]\n",
        "        }\n",
        "      ]\n",
        "    },\n",
        "    {\n",
        "      \"nome\": \"Rafael Borré\",\n",
        "      \"cpf\": \"521849376-47\",\n",
        "      \"email\": \"borre.rcolorado@gmail.com\",\n",
        "      \"endereco\": [\n",
        "        {\n",
        "          \"numero\": 404,\n",
        "          \"complemento\": None,\n",
        "          \"cep\": \"22010-000\",\n",
        "            \"idEndereco\": 8\n",
        "        }\n",
        "      ],\n",
        "      \"avaliacao\": [\n",
        "        {\n",
        "          \"nota\": 6.0,\n",
        "          \"comentario\": \"Bonita, quentinha mas fede a latex barato.\",\n",
        "          \"data\": datetime(2024, 5, 11),\n",
        "          \"idFKProduto\": idprodutos[7]\n",
        "        }\n",
        "      ]\n",
        "    },\n",
        "    {\n",
        "      \"nome\": \"Mauricío Prado\",\n",
        "      \"cpf\": \"137296054-33\",\n",
        "      \"email\": \"mauricio_p@outlook.com.br\",\n",
        "      \"endereco\": [\n",
        "        {\n",
        "          \"numero\": 456,\n",
        "          \"complemento\": None,\n",
        "          \"cep\": \"20000-000\",\n",
        "            \"idEndereco\": 9\n",
        "        }\n",
        "      ],\n",
        "      \"avaliacao\": [\n",
        "        {\n",
        "          \"nota\": 9.6,\n",
        "          \"comentario\": \"Bolsa de marca elegante e prática.\",\n",
        "          \"data\": datetime(2024, 5, 12),\n",
        "          \"idFKProduto\": idprodutos[8]\n",
        "        }\n",
        "      ]\n",
        "    },\n",
        "    {\n",
        "      \"nome\": \"Sergio Rochet\",\n",
        "      \"cpf\": \"213487652-00\",\n",
        "      \"email\": \"rochetcolorado@gmail.com\",\n",
        "      \"endereco\": [\n",
        "        {\n",
        "          \"numero\": 789,\n",
        "          \"complemento\": None,\n",
        "          \"cep\": \"22000-000\",\n",
        "            \"idEndereco\": 10\n",
        "        }\n",
        "      ],\n",
        "      \"avaliacao\": [\n",
        "        {\n",
        "          \"nota\": 0.0,\n",
        "          \"comentario\": \"Óculos ótimo.\",\n",
        "          \"data\": datetime(2024, 5, 13),\n",
        "          \"idFKProduto\": idprodutos[9]\n",
        "        }\n",
        "      ]\n",
        "    }\n",
        "]\n"
      ]
    },
    {
      "cell_type": "code",
      "source": [
        "bd2.cliente.insert_many(dadosCliente)"
      ],
      "metadata": {
        "id": "m5wBfICdwVz8",
        "outputId": "761f9df1-d727-4ed6-a1d3-b409ee0b530a",
        "colab": {
          "base_uri": "https://localhost:8080/"
        }
      },
      "execution_count": null,
      "outputs": [
        {
          "output_type": "execute_result",
          "data": {
            "text/plain": [
              "InsertManyResult([ObjectId('666c43e5a07c3b2bd867cda9'), ObjectId('666c43e5a07c3b2bd867cdaa'), ObjectId('666c43e5a07c3b2bd867cdab'), ObjectId('666c43e5a07c3b2bd867cdac'), ObjectId('666c43e5a07c3b2bd867cdad'), ObjectId('666c43e5a07c3b2bd867cdae'), ObjectId('666c43e5a07c3b2bd867cdaf'), ObjectId('666c43e5a07c3b2bd867cdb0'), ObjectId('666c43e5a07c3b2bd867cdb1'), ObjectId('666c43e5a07c3b2bd867cdb2')], acknowledged=True)"
            ]
          },
          "metadata": {},
          "execution_count": 55
        }
      ]
    },
    {
      "cell_type": "code",
      "execution_count": null,
      "metadata": {
        "id": "GApZ-k91EDLe"
      },
      "outputs": [],
      "source": [
        "dadosPedido = [\n",
        "  {\n",
        "    \"formaDePagamento\": \"Pix\",\n",
        "    \"data\": datetime(2024, 5, 10),\n",
        "    \"idFKEndereco\": 1,\n",
        "    \"item\": [\n",
        "      {\n",
        "        \"quantidade\": 1,\n",
        "        \"data de entrega\": datetime(2024, 5, 10),\n",
        "        \"status\": \"Entregue\",\n",
        "        \"idFKProduto\": idprodutos[0],\n",
        "        \"idFKTrans\": idtransportadoras[0]\n",
        "      },\n",
        "      {\n",
        "        \"quantidade\": 2,\n",
        "        \"data de entrega\": datetime(2024, 5, 10),\n",
        "        \"status\": \"Entregue\",\n",
        "        \"idFKProduto\": idprodutos[2],\n",
        "        \"idFKTrans\": idtransportadoras[1]\n",
        "      }\n",
        "    ]\n",
        "  },\n",
        "  {\n",
        "    \"formaDePagamento\": \"Cartão de Crédito\",\n",
        "    \"data\": datetime(2024, 5, 10),\n",
        "    \"idFKEndereco\": 2,\n",
        "    \"item\": [\n",
        "      {\n",
        "        \"quantidade\": 2,\n",
        "        \"data de entrega\": datetime(2024, 5, 10),\n",
        "        \"status\": \"Entregue\",\n",
        "        \"idFKProduto\": idprodutos[1],\n",
        "        \"idFKTrans\": idtransportadoras[1]\n",
        "      }\n",
        "    ]\n",
        "  },\n",
        "  {\n",
        "    \"formaDePagamento\": \"Boleto\",\n",
        "    \"data\": datetime(2024, 5, 10),\n",
        "    \"idFKEndereco\": 3,\n",
        "    \"item\": [\n",
        "      {\n",
        "        \"quantidade\": 1,\n",
        "        \"status\": \"A caminho\",\n",
        "        \"idFKProduto\": idprodutos[6],\n",
        "        \"idFKTrans\": idtransportadoras[0]\n",
        "      }\n",
        "    ]\n",
        "  },\n",
        "  {\n",
        "    \"formaDePagamento\": \"Pix\",\n",
        "    \"data\": datetime(2024, 5, 10),\n",
        "    \"idFKEndereco\": 4,\n",
        "    \"item\": [\n",
        "      {\n",
        "        \"quantidade\": 1,\n",
        "        \"data de entrega\": datetime(2024, 5, 10),\n",
        "        \"status\": \"Entregue\",\n",
        "        \"idFKProduto\": idprodutos[6],\n",
        "        \"idFKTrans\": idtransportadoras[0]\n",
        "      }\n",
        "    ]\n",
        "  },\n",
        "  {\n",
        "    \"formaDePagamento\": \"Cartão de Débito\",\n",
        "    \"data\": datetime(2024, 5, 10),\n",
        "    \"idFKEndereco\": 5,\n",
        "    \"item\": [\n",
        "      {\n",
        "        \"quantidade\": 1,\n",
        "        \"data de entrega\": datetime(2024, 5, 10),\n",
        "        \"status\": \"Entregue\",\n",
        "        \"idFKProduto\": idprodutos[9],\n",
        "        \"idFKTrans\": idtransportadoras[1]\n",
        "      },\n",
        "      {\n",
        "        \"quantidade\": 2,\n",
        "        \"data de entrega\": datetime(2024, 5, 10),\n",
        "        \"status\": \"Entregue\",\n",
        "        \"idFKProduto\": idprodutos[4],\n",
        "        \"idFKTrans\": idtransportadoras[1]\n",
        "      }\n",
        "    ]\n",
        "  },\n",
        "  {\n",
        "    \"formaDePagamento\": \"Pix\",\n",
        "    \"data\": datetime(2024, 5, 10),\n",
        "    \"idFKEndereco\": 6,\n",
        "    \"item\": [\n",
        "      {\n",
        "        \"quantidade\": 3,\n",
        "        \"status\": \"A caminho\",\n",
        "        \"idFKProduto\": idprodutos[8],\n",
        "        \"idFKTrans\": idtransportadoras[0]\n",
        "      }\n",
        "    ]\n",
        "  },\n",
        "  {\n",
        "    \"formaDePagamento\": \"Cartão de Débito\",\n",
        "    \"data\": datetime(2024, 5, 10),\n",
        "    \"idFKEndereco\": 7,\n",
        "    \"item\": [\n",
        "      {\n",
        "        \"quantidade\": 1,\n",
        "        \"data de entrega\": datetime(2024, 5, 10),\n",
        "        \"status\": \"Entregue\",\n",
        "        \"idFKProduto\": idprodutos[2],\n",
        "        \"idFKTrans\": idtransportadoras[0]\n",
        "      }\n",
        "    ]\n",
        "  },\n",
        "  {\n",
        "    \"formaDePagamento\": \"Cartão de Crédito\",\n",
        "    \"data\": datetime(2024, 5, 10),\n",
        "    \"idFKEndereco\": 8,\n",
        "    \"item\": [\n",
        "      {\n",
        "        \"quantidade\": 1,\n",
        "        \"data de entrega\": datetime(2024, 5, 10),\n",
        "        \"status\": \"Entregue\",\n",
        "        \"idFKProduto\": idprodutos[7],\n",
        "        \"idFKTrans\": idtransportadoras[0]\n",
        "      }\n",
        "    ]\n",
        "  },\n",
        "  {\n",
        "    \"formaDePagamento\": \"Pix\",\n",
        "    \"data\": datetime(2024, 5, 10),\n",
        "    \"idFKEndereco\": 9,\n",
        "    \"item\": [\n",
        "      {\n",
        "        \"quantidade\": 2,\n",
        "        \"data de entrega\": datetime(2024, 5, 10),\n",
        "        \"status\": \"Entregue\",\n",
        "        \"idFKProduto\": idprodutos[9],\n",
        "        \"idFKTrans\": idtransportadoras[1]\n",
        "      },\n",
        "      {\n",
        "        \"quantidade\": 2,\n",
        "        \"data de entrega\": datetime(2024, 5, 10),\n",
        "        \"status\": \"Entregue\",\n",
        "        \"idFKProduto\": idprodutos[7],\n",
        "        \"idFKTrans\": idtransportadoras[1]\n",
        "      }\n",
        "    ]\n",
        "  },\n",
        "  {\n",
        "    \"formaDePagamento\": \"Pix\",\n",
        "    \"data\": datetime(2024, 5, 10),\n",
        "    \"idFKEndereco\": 10,\n",
        "    \"item\": [\n",
        "      {\n",
        "        \"quantidade\": 1,\n",
        "        \"status\": \"Preparando\",\n",
        "        \"idFKProduto\": idprodutos[0],\n",
        "        \"idFKTrans\": idtransportadoras[1]\n",
        "      }\n",
        "    ]\n",
        "  }\n",
        "]"
      ]
    },
    {
      "cell_type": "code",
      "execution_count": null,
      "metadata": {
        "colab": {
          "base_uri": "https://localhost:8080/"
        },
        "id": "jrqRONS_kr1q",
        "outputId": "f90d0639-85b0-4de8-b2a4-e9246c92541b"
      },
      "outputs": [
        {
          "output_type": "execute_result",
          "data": {
            "text/plain": [
              "InsertManyResult([ObjectId('666c43eda07c3b2bd867cdb3'), ObjectId('666c43eda07c3b2bd867cdb4'), ObjectId('666c43eda07c3b2bd867cdb5'), ObjectId('666c43eda07c3b2bd867cdb6'), ObjectId('666c43eda07c3b2bd867cdb7'), ObjectId('666c43eda07c3b2bd867cdb8'), ObjectId('666c43eda07c3b2bd867cdb9'), ObjectId('666c43eda07c3b2bd867cdba'), ObjectId('666c43eda07c3b2bd867cdbb'), ObjectId('666c43eda07c3b2bd867cdbc')], acknowledged=True)"
            ]
          },
          "metadata": {},
          "execution_count": 56
        }
      ],
      "source": [
        "bd2.pedido.insert_many(dadosPedido)"
      ]
    },
    {
      "cell_type": "code",
      "execution_count": null,
      "metadata": {
        "id": "ONarRQRMKdmQ"
      },
      "outputs": [],
      "source": [
        "dadosProduto = [\n",
        "  {\n",
        "    \"nome\": \"Notebook\",\n",
        "    \"preco\": 3700.0,\n",
        "    \"idFKCategoria\": idcategorias[0]\n",
        "  },\n",
        "  {\n",
        "    \"nome\": \"Geladeira\",\n",
        "    \"preco\": 2000.0,\n",
        "    \"idFKCategoria\":  idcategorias[0]\n",
        "  },\n",
        "  {\n",
        "    \"nome\": \"Celular\",\n",
        "    \"preco\": 1500.0,\n",
        "    \"idFKCategoria\": idcategorias[0]\n",
        "  },\n",
        "  {\n",
        "    \"nome\": \"Robo Aspirador\",\n",
        "    \"preco\": 800.0,\n",
        "    \"idFKCategoria\": idcategorias[0]\n",
        "  },\n",
        "  {\n",
        "    \"nome\": \"Refrigerante\",\n",
        "    \"preco\": 5.50,\n",
        "    \"idFKCategoria\": idcategorias[1]\n",
        "  },\n",
        "  {\n",
        "    \"nome\": \"Suco de Laranja\",\n",
        "    \"preco\": 6.00,\n",
        "    \"idFKCategoria\": idcategorias[1]\n",
        "  },\n",
        "  {\n",
        "    \"nome\": \"Biscoito\",\n",
        "    \"preco\": 3.00,\n",
        "    \"idFKCategoria\": idcategorias[1]\n",
        "  },\n",
        "  {\n",
        "    \"nome\": \"Água Mineral\",\n",
        "    \"preco\": 2.00,\n",
        "    \"idFKCategoria\": idcategorias[1]\n",
        "  },\n",
        "  {\n",
        "    \"nome\": \"Jaqueta de Couro\",\n",
        "    \"preco\": 200.0,\n",
        "    \"idFKCategoria\": idcategorias[2]\n",
        "  },\n",
        "  {\n",
        "    \"nome\": \"Bolsa de Marca\",\n",
        "    \"preco\": 300.0,\n",
        "    \"idFKCategoria\": idcategorias[2]\n",
        "  },\n",
        "  {\n",
        "    \"nome\": \"Sapato Social\",\n",
        "    \"preco\": 150.0,\n",
        "    \"idFKCategoria\":  idcategorias[2]\n",
        "  },\n",
        "  {\n",
        "    \"nome\": \"Óculos de Sol\",\n",
        "    \"preco\": 100.0,\n",
        "    \"idFKCategoria\":  idcategorias[2]\n",
        "  }\n",
        "]"
      ]
    },
    {
      "cell_type": "markdown",
      "metadata": {
        "id": "jNPsltjZi3lq"
      },
      "source": []
    },
    {
      "cell_type": "code",
      "execution_count": null,
      "metadata": {
        "id": "vGAIZxAnLMZ4"
      },
      "outputs": [],
      "source": [
        "dadosTrans = [\n",
        "  {\n",
        "    \"nome\": \"TransLogística Express\",\n",
        "    \"email\": \"contato@translogisticaexpress.com\"\n",
        "  },\n",
        "  {\n",
        "    \"nome\": \"Rápido Transportes\",\n",
        "    \"email\": \"atendimento@rapidotransportes.com\"\n",
        "  }\n",
        "]"
      ]
    },
    {
      "cell_type": "code",
      "execution_count": null,
      "metadata": {
        "colab": {
          "base_uri": "https://localhost:8080/"
        },
        "id": "FWscFRhBoYdO",
        "outputId": "1a63b034-796e-4409-dda2-9e9a3aa13d3e"
      },
      "outputs": [
        {
          "data": {
            "text/plain": [
              "InsertManyResult([ObjectId('666bae8440c48f22a5415e64'), ObjectId('666bae8440c48f22a5415e65')], acknowledged=True)"
            ]
          },
          "execution_count": 112,
          "metadata": {},
          "output_type": "execute_result"
        }
      ],
      "source": [
        "bd2.transportadora.insert_many(dadosTrans)"
      ]
    },
    {
      "cell_type": "code",
      "execution_count": null,
      "metadata": {
        "id": "CpbwZsEYLqEp"
      },
      "outputs": [],
      "source": [
        "dadosCategoria = [\n",
        "    {\n",
        "        \"nome\": \"Eletrônicos\"\n",
        "    },\n",
        "    {\n",
        "        \"nome\": \"Alimentos\"\n",
        "    },\n",
        "    {\n",
        "        \"nome\": \"Roupas e Acessórios\"\n",
        "    }\n",
        "]"
      ]
    },
    {
      "cell_type": "code",
      "execution_count": null,
      "metadata": {
        "colab": {
          "base_uri": "https://localhost:8080/"
        },
        "id": "igdMtDnyeT8u",
        "outputId": "39afa9f2-d27a-4f7c-a0f0-471702d5df1f"
      },
      "outputs": [
        {
          "name": "stdout",
          "output_type": "stream",
          "text": [
            "[ObjectId('666ba9cc40c48f22a5415e28'), ObjectId('666ba9cc40c48f22a5415e29'), ObjectId('666ba9cc40c48f22a5415e2a'), ObjectId('666ba9cc40c48f22a5415e2b'), ObjectId('666ba9cc40c48f22a5415e2c'), ObjectId('666ba9cc40c48f22a5415e2d'), ObjectId('666ba9cc40c48f22a5415e2e'), ObjectId('666ba9cc40c48f22a5415e2f'), ObjectId('666ba9cc40c48f22a5415e30'), ObjectId('666ba9cc40c48f22a5415e31')]\n"
          ]
        }
      ],
      "source": [
        "try:\n",
        "    idclientes = bd2.cliente.insert_many(dadosCliente).inserted_ids\n",
        "    print(idclientes)\n",
        "except Exception as e:\n",
        "    print(f\"Erro completo: {e}\")\n",
        "    print(f\"Tipo de erro: \" + type(e).__name)\n",
        "    print(f\"Código: {e.details.get('code')}\")\n",
        "    print(f\"Mensagem: {e.details.get('errmsg')}\")"
      ]
    },
    {
      "cell_type": "code",
      "execution_count": null,
      "metadata": {
        "colab": {
          "base_uri": "https://localhost:8080/"
        },
        "id": "btcj0lYsQ-Ra",
        "outputId": "16ab7a7b-613d-434f-c189-e64dc7e2a103"
      },
      "outputs": [
        {
          "output_type": "stream",
          "name": "stdout",
          "text": [
            "[ObjectId('666c43a5a07c3b2bd867cd9d'), ObjectId('666c43a5a07c3b2bd867cd9e'), ObjectId('666c43a5a07c3b2bd867cd9f'), ObjectId('666c43a5a07c3b2bd867cda0'), ObjectId('666c43a5a07c3b2bd867cda1'), ObjectId('666c43a5a07c3b2bd867cda2'), ObjectId('666c43a5a07c3b2bd867cda3'), ObjectId('666c43a5a07c3b2bd867cda4'), ObjectId('666c43a5a07c3b2bd867cda5'), ObjectId('666c43a5a07c3b2bd867cda6'), ObjectId('666c43a5a07c3b2bd867cda7'), ObjectId('666c43a5a07c3b2bd867cda8')]\n"
          ]
        }
      ],
      "source": [
        "try:\n",
        "    idprodutos = bd2.produto.insert_many(dadosProduto).inserted_ids\n",
        "    print(idprodutos)\n",
        "except Exception as e:\n",
        "    print(f\"Erro completo: {e}\")\n",
        "    print(f\"Tipo de erro: \" + type(e).__name)\n",
        "    print(f\"Código: {e.details.get('code')}\")\n",
        "    print(f\"Mensagem: {e.details.get('errmsg')}\")"
      ]
    },
    {
      "cell_type": "code",
      "execution_count": null,
      "metadata": {
        "colab": {
          "base_uri": "https://localhost:8080/"
        },
        "id": "W2oRYz8ag8E_",
        "outputId": "4629bd7b-2f7f-4335-90ac-c7ee43965579"
      },
      "outputs": [
        {
          "output_type": "stream",
          "name": "stdout",
          "text": [
            "[ObjectId('666c438fa07c3b2bd867cd9b'), ObjectId('666c438fa07c3b2bd867cd9c')]\n"
          ]
        }
      ],
      "source": [
        "try:\n",
        "    idtransportadoras = bd2.transportadora.insert_many(dadosTrans).inserted_ids\n",
        "    print(idtransportadoras)\n",
        "except Exception as e:\n",
        "    print(f\"Erro completo: {e}\")\n",
        "    print(f\"Tipo de erro: \" + type(e).__name)\n",
        "    print(f\"Código: {e.details.get('code')}\")\n",
        "    print(f\"Mensagem: {e.details.get('errmsg')}\")"
      ]
    },
    {
      "cell_type": "code",
      "execution_count": null,
      "metadata": {
        "colab": {
          "base_uri": "https://localhost:8080/"
        },
        "id": "vpCYhkrO75J-",
        "outputId": "26d3aaa0-ae63-4cdb-f2c9-8b40d2882520"
      },
      "outputs": [
        {
          "output_type": "stream",
          "name": "stdout",
          "text": [
            "[ObjectId('666c4386a07c3b2bd867cd98'), ObjectId('666c4386a07c3b2bd867cd99'), ObjectId('666c4386a07c3b2bd867cd9a')]\n"
          ]
        }
      ],
      "source": [
        "try:\n",
        "    idcategorias = bd2.categoria.insert_many(dadosCategoria).inserted_ids\n",
        "    print(idcategorias)\n",
        "except Exception as e:\n",
        "    print(f\"Erro completo: {e}\")\n",
        "    print(f\"Tipo de erro: \" + type(e).__name)\n",
        "    print(f\"Código: {e.details.get('code')}\")\n",
        "    print(f\"Mensagem: {e.details.get('errmsg')}\")\n"
      ]
    },
    {
      "cell_type": "code",
      "source": [
        "import pymongo\n",
        "from bson.objectid import ObjectId"
      ],
      "metadata": {
        "id": "gzYpCh99IQCh"
      },
      "execution_count": 34,
      "outputs": []
    },
    {
      "cell_type": "code",
      "source": [
        "select = {\n",
        "    \"$and\": [\n",
        "        {\"preco\": {\"$gt\": 1000}},\n",
        "        {\"$or\": [\n",
        "            {\"idFKCategoria\": ObjectId(\"666c4386a07c3b2bd867cd98\")},\n",
        "            {\"idFKCategoria\": ObjectId(\"666c4386a07c3b2bd867cd99\")}\n",
        "        ]}\n",
        "    ]\n",
        "}\n",
        "\n",
        "produtos = list(bd2['produto'].find(select))\n",
        "\n",
        "count = len(produtos)\n",
        "\n",
        "print(f\"Produtos que custam masi de 1000: {count}\")\n",
        "\n",
        "for p in produtos:\n",
        "    print(p)\n",
        "    print(\"-----------------------------------------------------------------------------------------------------------------------------\")"
      ],
      "metadata": {
        "colab": {
          "base_uri": "https://localhost:8080/"
        },
        "id": "TsdctOZZIVcT",
        "outputId": "d0958e2e-632f-4eca-c790-eb80206bcea7"
      },
      "execution_count": 50,
      "outputs": [
        {
          "output_type": "stream",
          "name": "stdout",
          "text": [
            "Produtos que custam masi de 1000: 3\n",
            "{'_id': ObjectId('666c43a5a07c3b2bd867cd9d'), 'nome': 'Notebook', 'preco': 3700.0, 'idFKCategoria': ObjectId('666c4386a07c3b2bd867cd98')}\n",
            "-----------------------------------------------------------------------------------------------------------------------------\n",
            "{'_id': ObjectId('666c43a5a07c3b2bd867cd9e'), 'nome': 'Geladeira', 'preco': 2000.0, 'idFKCategoria': ObjectId('666c4386a07c3b2bd867cd98')}\n",
            "-----------------------------------------------------------------------------------------------------------------------------\n",
            "{'_id': ObjectId('666c43a5a07c3b2bd867cd9f'), 'nome': 'Celular', 'preco': 1500.0, 'idFKCategoria': ObjectId('666c4386a07c3b2bd867cd98')}\n",
            "-----------------------------------------------------------------------------------------------------------------------------\n"
          ]
        }
      ]
    },
    {
      "cell_type": "code",
      "source": [
        "notaMax = bd2.cliente.aggregate([\n",
        "    {\"$unwind\": \"$avaliacao\"},\n",
        "    {\"$group\": {\"_id\": None, \"maiorNota\": {\"$max\": \"$avaliacao.nota\"}}}\n",
        "]).next()[\"maiorNota\"]\n",
        "print(\"Avaliação com a maior nota :\", notaMax)\n"
      ],
      "metadata": {
        "colab": {
          "base_uri": "https://localhost:8080/"
        },
        "id": "S1pp47tVJR9_",
        "outputId": "4de47f08-3152-4eb6-d29f-31359ce5639f"
      },
      "execution_count": 51,
      "outputs": [
        {
          "output_type": "stream",
          "name": "stdout",
          "text": [
            "Avaliação com a maior nota : 10.0\n"
          ]
        }
      ]
    },
    {
      "cell_type": "code",
      "source": [
        "select = {\"avaliacao.nota\": {\"$gt\": 8}}\n",
        "campos = {\"_id\": 0, \"nome\": 1, \"avaliacao.nota\": 1, \"avaliacao.comentario\": 1}\n",
        "\n",
        "avaliacoes = bd2['cliente'].find(select, campos)\n",
        "print(\"Avaliações de clientes que avaliaram produtos com notas maiores que 8!\")\n",
        "print(\"\")\n",
        "for a in avaliacoes:\n",
        "    print(a)\n",
        "    print(\"-------------------------------------------------------------------------------------------------------------------\")"
      ],
      "metadata": {
        "colab": {
          "base_uri": "https://localhost:8080/"
        },
        "id": "SnDyMaknJcCZ",
        "outputId": "16a948d0-6224-45e1-d879-3067bbfd7ab9"
      },
      "execution_count": 65,
      "outputs": [
        {
          "output_type": "stream",
          "name": "stdout",
          "text": [
            "Avaliações de clientes que avaliaram produtos com notas maiores que 8!\n",
            "\n",
            "{'nome': 'Enner Valência', 'avaliacao': [{'nota': 10.0, 'comentario': 'Bom, rápido e bonito!'}]}\n",
            "-------------------------------------------------------------------------------------------------------------------\n",
            "{'nome': 'Bruna Benites', 'avaliacao': [{'nota': 9.5, 'comentario': 'Ótima geladeira, muito espaçosa!'}]}\n",
            "-------------------------------------------------------------------------------------------------------------------\n",
            "{'nome': 'Roberta Schroeder', 'avaliacao': [{'nota': 9.8, 'comentario': 'Excelente celular, rápido e eficiente.'}]}\n",
            "-------------------------------------------------------------------------------------------------------------------\n",
            "{'nome': 'Giulia Giovanna', 'avaliacao': [{'nota': 9.2, 'comentario': 'Suco de laranja natural, muito bom.'}]}\n",
            "-------------------------------------------------------------------------------------------------------------------\n",
            "{'nome': 'Alan Patrick', 'avaliacao': [{'nota': 8.8, 'comentario': 'Água mineral refrescante e pura.'}]}\n",
            "-------------------------------------------------------------------------------------------------------------------\n",
            "{'nome': 'Mauricío Prado', 'avaliacao': [{'nota': 9.6, 'comentario': 'Bolsa de marca elegante e prática.'}]}\n",
            "-------------------------------------------------------------------------------------------------------------------\n"
          ]
        }
      ]
    },
    {
      "cell_type": "code",
      "source": [
        "cliente = \"Rafael Borré\"\n",
        "\n",
        "pipeline = [\n",
        "    {\"$match\": {\"nome\": cliente}},\n",
        "    {\"$unwind\": \"$endereco\"},\n",
        "    {\n",
        "        \"$lookup\": {\n",
        "            \"from\": \"pedido\",\n",
        "            \"localField\": \"endereco.idEndereco\",\n",
        "            \"foreignField\": \"idFKEndereco\",\n",
        "            \"as\": \"pedidos\"\n",
        "        }\n",
        "    },\n",
        "    {\"$unwind\": \"$pedidos\"},\n",
        "    {\"$unwind\": \"$pedidos.item\"},\n",
        "    {\n",
        "        \"$lookup\": {\n",
        "            \"from\": \"produto\",\n",
        "            \"localField\": \"pedidos.item.idFKProduto\",\n",
        "            \"foreignField\": \"_id\",\n",
        "            \"as\": \"produtoInf\"\n",
        "        }\n",
        "    },\n",
        "    {\"$unwind\": \"$produtoInf\"},\n",
        "    {\n",
        "        \"$lookup\": {\n",
        "            \"from\": \"categoria\",\n",
        "            \"localField\": \"produtoInf.idFKCategoria\",\n",
        "            \"foreignField\": \"_id\",\n",
        "            \"as\": \"categoriaInf\"\n",
        "        }\n",
        "    },\n",
        "    {\"$unwind\": \"$categoriaInf\"},\n",
        "    {\n",
        "        \"$lookup\": {\n",
        "            \"from\": \"transportadora\",\n",
        "            \"localField\": \"pedidos.item.idFKTrans\",\n",
        "            \"foreignField\": \"_id\",\n",
        "            \"as\": \"transportadoraInf\"\n",
        "        }\n",
        "    },\n",
        "    {\"$unwind\": \"$transportadoraInf\"},\n",
        "    {\n",
        "        \"$project\": {\n",
        "            \"_id\": 0,\n",
        "            \"cliente\": \"$nome\",\n",
        "            \"email\": \"$email\",\n",
        "            \"cpf\": \"$cpf\",\n",
        "            \"pedido\": \"$pedidos._id\",\n",
        "            \"data\": \"$pedidos.data\",\n",
        "            \"forma de pagamento\": \"$pedidos.formaDePagamento\",\n",
        "            \"nome do produto\": \"$produtoInf.nome\",\n",
        "            \"preco\": \"$produtoInf.preco\",\n",
        "            \"categoria\": \"$categoriaInf.nome\",\n",
        "            \"quantidade\": \"$pedidos.item.quantidade\",\n",
        "            \"entrega\": \"$pedidos.item.data de entrega\",\n",
        "            \"status\": \"$pedidos.item.status\",\n",
        "            \"transportadora\": \"$transportadoraInf.nome\"\n",
        "        }\n",
        "    }\n",
        "]\n",
        "\n",
        "res = list(bd2.cliente.aggregate(pipeline))\n",
        "print(\"Dados do cliente chamado 'Rafael Borré'\")\n",
        "print(\"\")\n",
        "for res in res:\n",
        "    for key, value in res.items():\n",
        "        print(f\"{key}: {value}\")\n",
        "        print(\"-----------------------------------\")\n"
      ],
      "metadata": {
        "colab": {
          "base_uri": "https://localhost:8080/"
        },
        "id": "VGgn27cmJm4s",
        "outputId": "0e6ed24a-6daf-40af-81d7-23fa2eb36368"
      },
      "execution_count": 67,
      "outputs": [
        {
          "output_type": "stream",
          "name": "stdout",
          "text": [
            "Dados do cliente chamado 'Rafael Borré'\n",
            "\n",
            "cliente: Rafael Borré\n",
            "-----------------------------------\n",
            "email: borre.rcolorado@gmail.com\n",
            "-----------------------------------\n",
            "cpf: 521849376-47\n",
            "-----------------------------------\n",
            "pedido: 666c43eda07c3b2bd867cdba\n",
            "-----------------------------------\n",
            "data: 2024-05-10 00:00:00\n",
            "-----------------------------------\n",
            "forma de pagamento: Cartão de Crédito\n",
            "-----------------------------------\n",
            "nome do produto: Água Mineral\n",
            "-----------------------------------\n",
            "preco: 2.0\n",
            "-----------------------------------\n",
            "categoria: Alimentos\n",
            "-----------------------------------\n",
            "quantidade: 1\n",
            "-----------------------------------\n",
            "entrega: 2024-05-10 00:00:00\n",
            "-----------------------------------\n",
            "status: Entregue\n",
            "-----------------------------------\n",
            "transportadora: TransLogística Express\n",
            "-----------------------------------\n"
          ]
        }
      ]
    },
    {
      "cell_type": "code",
      "source": [
        "pedidoDePix = [\n",
        "    {\n",
        "        \"$match\": {\"formaDePagamento\": \"Pix\"}\n",
        "    },\n",
        "    {\n",
        "        \"$lookup\": {\n",
        "            \"from\": \"cliente\",\n",
        "            \"localField\": \"idFKEndereco\",\n",
        "            \"foreignField\": \"endereco.idEndereco\",\n",
        "            \"as\": \"clienteInf\"\n",
        "        }\n",
        "    },\n",
        "    {\n",
        "        \"$unwind\": \"$clienteInf\"\n",
        "    },\n",
        "    {\n",
        "        \"$lookup\": {\n",
        "            \"from\": \"produto\",\n",
        "            \"localField\": \"item.idFKProduto\",\n",
        "            \"foreignField\": \"_id\",\n",
        "            \"as\": \"produtoInf\"\n",
        "        }\n",
        "    },\n",
        "    {\n",
        "        \"$unwind\": \"$produtoInf\"\n",
        "    },\n",
        "    {\n",
        "        \"$project\": {\n",
        "            \"_id\": 0,\n",
        "            \"nome\": \"$clienteInf.nome\",\n",
        "            \"produto\": \"$produtoInf.nome\"\n",
        "        }\n",
        "    }\n",
        "]\n",
        "\n",
        "pedidos = bd2['pedido'].aggregate(pedidoDePix)\n",
        "print(\"Pedidos com forma de pagamento 'Pix'\")\n",
        "print(\"\")\n",
        "for pedido in pedidos:\n",
        "    print(pedido)\n",
        "    print(\"--------------------------------------------\")\n"
      ],
      "metadata": {
        "colab": {
          "base_uri": "https://localhost:8080/"
        },
        "id": "qCK0CGb1J0O-",
        "outputId": "bda168fc-5ee7-4016-f807-afdf46388855"
      },
      "execution_count": 68,
      "outputs": [
        {
          "output_type": "stream",
          "name": "stdout",
          "text": [
            "Pedidos com forma de pagamento 'Pix'\n",
            "\n",
            "{'nome': 'Enner Valência', 'produto': 'Notebook'}\n",
            "--------------------------------------------\n",
            "{'nome': 'Enner Valência', 'produto': 'Celular'}\n",
            "--------------------------------------------\n",
            "{'nome': 'Isa Haas', 'produto': 'Biscoito'}\n",
            "--------------------------------------------\n",
            "{'nome': 'Giulia Giovanna', 'produto': 'Jaqueta de Couro'}\n",
            "--------------------------------------------\n",
            "{'nome': 'Mauricío Prado', 'produto': 'Água Mineral'}\n",
            "--------------------------------------------\n",
            "{'nome': 'Mauricío Prado', 'produto': 'Bolsa de Marca'}\n",
            "--------------------------------------------\n",
            "{'nome': 'Sergio Rochet', 'produto': 'Notebook'}\n",
            "--------------------------------------------\n"
          ]
        }
      ]
    },
    {
      "cell_type": "markdown",
      "metadata": {
        "id": "h_3lY6kSjGu2"
      },
      "source": []
    }
  ],
  "metadata": {
    "colab": {
      "provenance": []
    },
    "kernelspec": {
      "display_name": "Python 3",
      "name": "python3"
    },
    "language_info": {
      "name": "python"
    }
  },
  "nbformat": 4,
  "nbformat_minor": 0
}